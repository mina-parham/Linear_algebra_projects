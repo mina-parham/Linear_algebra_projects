{
 "cells": [
  {
   "cell_type": "markdown",
   "metadata": {},
   "source": [
    "# givens rotation QR decomposition"
   ]
  },
  {
   "cell_type": "markdown",
   "metadata": {},
   "source": [
    "Let 𝐴 be an 𝑚 × 𝑛 matrix with full column rank.\n",
    "The 𝑄𝑅 factorization of 𝐴 is a decomposition 𝐴 = 𝑄𝑅, where 𝑄 is an 𝑚 × 𝑚 orthogonal matrix and 𝑅 is an 𝑚 × 𝑛 upper triangular matrix."
   ]
  },
  {
   "cell_type": "code",
   "execution_count": 1,
   "metadata": {},
   "outputs": [],
   "source": [
    "import numpy as np\n",
    "from math import sqrt, hypot\n",
    "import scipy.linalg "
   ]
  },
  {
   "cell_type": "markdown",
   "metadata": {},
   "source": [
    "fist we implement the Givens Rotation function:"
   ]
  },
  {
   "cell_type": "code",
   "execution_count": 2,
   "metadata": {},
   "outputs": [],
   "source": [
    "def givens_rotation(a, b):\n",
    "    r = hypot(a, b)\n",
    "    c = a/r\n",
    "    s = -b/r\n",
    "    return (c, s)"
   ]
  },
  {
   "cell_type": "markdown",
   "metadata": {},
   "source": [
    "then we calculate the Q and R matrix"
   ]
  },
  {
   "cell_type": "code",
   "execution_count": 3,
   "metadata": {},
   "outputs": [],
   "source": [
    "def givens_qr(A):\n",
    "    (num_rows, num_cols) = np.shape(A)\n",
    "    Q = np.identity(num_rows)\n",
    "    R = np.copy(A)\n",
    "    (rows, cols) = np.tril_indices(num_rows, -1, num_cols)\n",
    "    for (row, col) in zip(rows, cols):\n",
    "        if R[row, col] != 0:\n",
    "            (c, s) = givens_rotation(R[col, col], R[row, col])\n",
    "            G = np.identity(num_rows)\n",
    "            G[[col, row], [col, row]] = c\n",
    "            G[row, col] = s\n",
    "            G[col, row] = -s\n",
    "            R = np.dot(G, R)\n",
    "            Q = np.dot(Q, G.T)\n",
    "    return (Q, R)\n"
   ]
  },
  {
   "cell_type": "markdown",
   "metadata": {},
   "source": [
    "here we test it:"
   ]
  },
  {
   "cell_type": "code",
   "execution_count": 4,
   "metadata": {},
   "outputs": [
    {
     "name": "stdout",
     "output_type": "stream",
     "text": [
      "[[ 0.76822128  0.33265418  0.54697099]\n",
      " [ 0.6401844  -0.39918502 -0.65636519]\n",
      " [ 0.          0.854396   -0.51962244]]\n",
      "[[ 7.81024968e+00  4.48129080e+00  2.56073760e+00]\n",
      " [ 2.30758718e-16  4.68166987e+00  9.66447932e-01]\n",
      " [ 3.79428043e-16  0.00000000e+00 -4.18432806e+00]]\n"
     ]
    }
   ],
   "source": [
    "A = np.array([[6, 5, 0],\n",
    "              [5, 1, 4],\n",
    "              [0, 4, 3]])\n",
    "B = np.array([[1,1],[1,-1],[2,-1]])\n",
    "(Q, R) = givens_qr(A)\n",
    "print(Q)\n",
    "print(R)\n",
    "b=[2, 0, 0]"
   ]
  },
  {
   "cell_type": "markdown",
   "metadata": {},
   "source": [
    "and now we can solve Ax = b:"
   ]
  },
  {
   "cell_type": "code",
   "execution_count": 5,
   "metadata": {},
   "outputs": [
    {
     "name": "stdout",
     "output_type": "stream",
     "text": [
      "[ 0.16993464  0.19607843 -0.26143791]\n"
     ]
    }
   ],
   "source": [
    "y = np.dot(Q.T,b)\n",
    "xQR = np.linalg.solve(R,y) \n",
    "print(xQR)"
   ]
  },
  {
   "cell_type": "code",
   "execution_count": null,
   "metadata": {},
   "outputs": [],
   "source": []
  }
 ],
 "metadata": {
  "kernelspec": {
   "display_name": "Python 3",
   "language": "python",
   "name": "python3"
  },
  "language_info": {
   "codemirror_mode": {
    "name": "ipython",
    "version": 3
   },
   "file_extension": ".py",
   "mimetype": "text/x-python",
   "name": "python",
   "nbconvert_exporter": "python",
   "pygments_lexer": "ipython3",
   "version": "3.7.4"
  }
 },
 "nbformat": 4,
 "nbformat_minor": 2
}
